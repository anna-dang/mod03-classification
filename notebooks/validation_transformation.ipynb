{
 "cells": [
  {
   "cell_type": "code",
   "execution_count": 1,
   "metadata": {},
   "outputs": [],
   "source": [
    "import pandas as pd\n",
    "import numpy as np\n",
    "import matplotlib.pyplot as plt\n",
    "import seaborn as sns\n",
    "import pickle\n",
    "import warnings\n",
    "warnings.filterwarnings('ignore')\n",
    "%matplotlib inline"
   ]
  },
  {
   "cell_type": "code",
   "execution_count": 2,
   "metadata": {},
   "outputs": [],
   "source": [
    "def fill_construction_year(construction_year):\n",
    "    if construction_year == 0:\n",
    "        return np.random.choice(a=list(year_prob_dict.keys()), p=list(year_prob_dict.values()), replace=True)\n",
    "    return construction_year"
   ]
  },
  {
   "cell_type": "code",
   "execution_count": 3,
   "metadata": {},
   "outputs": [
    {
     "data": {
      "text/html": [
       "<div>\n",
       "<style scoped>\n",
       "    .dataframe tbody tr th:only-of-type {\n",
       "        vertical-align: middle;\n",
       "    }\n",
       "\n",
       "    .dataframe tbody tr th {\n",
       "        vertical-align: top;\n",
       "    }\n",
       "\n",
       "    .dataframe thead th {\n",
       "        text-align: right;\n",
       "    }\n",
       "</style>\n",
       "<table border=\"1\" class=\"dataframe\">\n",
       "  <thead>\n",
       "    <tr style=\"text-align: right;\">\n",
       "      <th></th>\n",
       "      <th>id</th>\n",
       "      <th>amount_tsh</th>\n",
       "      <th>date_recorded</th>\n",
       "      <th>funder</th>\n",
       "      <th>gps_height</th>\n",
       "      <th>installer</th>\n",
       "      <th>longitude</th>\n",
       "      <th>latitude</th>\n",
       "      <th>wpt_name</th>\n",
       "      <th>num_private</th>\n",
       "      <th>...</th>\n",
       "      <th>payment_type</th>\n",
       "      <th>water_quality</th>\n",
       "      <th>quality_group</th>\n",
       "      <th>quantity</th>\n",
       "      <th>quantity_group</th>\n",
       "      <th>source</th>\n",
       "      <th>source_type</th>\n",
       "      <th>source_class</th>\n",
       "      <th>waterpoint_type</th>\n",
       "      <th>waterpoint_type_group</th>\n",
       "    </tr>\n",
       "  </thead>\n",
       "  <tbody>\n",
       "    <tr>\n",
       "      <th>0</th>\n",
       "      <td>50785</td>\n",
       "      <td>0.0</td>\n",
       "      <td>2013-02-04</td>\n",
       "      <td>Dmdd</td>\n",
       "      <td>1996</td>\n",
       "      <td>DMDD</td>\n",
       "      <td>35.290799</td>\n",
       "      <td>-4.059696</td>\n",
       "      <td>Dinamu Secondary School</td>\n",
       "      <td>0</td>\n",
       "      <td>...</td>\n",
       "      <td>never pay</td>\n",
       "      <td>soft</td>\n",
       "      <td>good</td>\n",
       "      <td>seasonal</td>\n",
       "      <td>seasonal</td>\n",
       "      <td>rainwater harvesting</td>\n",
       "      <td>rainwater harvesting</td>\n",
       "      <td>surface</td>\n",
       "      <td>other</td>\n",
       "      <td>other</td>\n",
       "    </tr>\n",
       "    <tr>\n",
       "      <th>1</th>\n",
       "      <td>51630</td>\n",
       "      <td>0.0</td>\n",
       "      <td>2013-02-04</td>\n",
       "      <td>Government Of Tanzania</td>\n",
       "      <td>1569</td>\n",
       "      <td>DWE</td>\n",
       "      <td>36.656709</td>\n",
       "      <td>-3.309214</td>\n",
       "      <td>Kimnyak</td>\n",
       "      <td>0</td>\n",
       "      <td>...</td>\n",
       "      <td>never pay</td>\n",
       "      <td>soft</td>\n",
       "      <td>good</td>\n",
       "      <td>insufficient</td>\n",
       "      <td>insufficient</td>\n",
       "      <td>spring</td>\n",
       "      <td>spring</td>\n",
       "      <td>groundwater</td>\n",
       "      <td>communal standpipe</td>\n",
       "      <td>communal standpipe</td>\n",
       "    </tr>\n",
       "    <tr>\n",
       "      <th>2</th>\n",
       "      <td>17168</td>\n",
       "      <td>0.0</td>\n",
       "      <td>2013-02-01</td>\n",
       "      <td>NaN</td>\n",
       "      <td>1567</td>\n",
       "      <td>NaN</td>\n",
       "      <td>34.767863</td>\n",
       "      <td>-5.004344</td>\n",
       "      <td>Puma Secondary</td>\n",
       "      <td>0</td>\n",
       "      <td>...</td>\n",
       "      <td>never pay</td>\n",
       "      <td>soft</td>\n",
       "      <td>good</td>\n",
       "      <td>insufficient</td>\n",
       "      <td>insufficient</td>\n",
       "      <td>rainwater harvesting</td>\n",
       "      <td>rainwater harvesting</td>\n",
       "      <td>surface</td>\n",
       "      <td>other</td>\n",
       "      <td>other</td>\n",
       "    </tr>\n",
       "    <tr>\n",
       "      <th>3</th>\n",
       "      <td>45559</td>\n",
       "      <td>0.0</td>\n",
       "      <td>2013-01-22</td>\n",
       "      <td>Finn Water</td>\n",
       "      <td>267</td>\n",
       "      <td>FINN WATER</td>\n",
       "      <td>38.058046</td>\n",
       "      <td>-9.418672</td>\n",
       "      <td>Kwa Mzee Pange</td>\n",
       "      <td>0</td>\n",
       "      <td>...</td>\n",
       "      <td>unknown</td>\n",
       "      <td>soft</td>\n",
       "      <td>good</td>\n",
       "      <td>dry</td>\n",
       "      <td>dry</td>\n",
       "      <td>shallow well</td>\n",
       "      <td>shallow well</td>\n",
       "      <td>groundwater</td>\n",
       "      <td>other</td>\n",
       "      <td>other</td>\n",
       "    </tr>\n",
       "    <tr>\n",
       "      <th>4</th>\n",
       "      <td>49871</td>\n",
       "      <td>500.0</td>\n",
       "      <td>2013-03-27</td>\n",
       "      <td>Bruder</td>\n",
       "      <td>1260</td>\n",
       "      <td>BRUDER</td>\n",
       "      <td>35.006123</td>\n",
       "      <td>-10.950412</td>\n",
       "      <td>Kwa Mzee Turuka</td>\n",
       "      <td>0</td>\n",
       "      <td>...</td>\n",
       "      <td>monthly</td>\n",
       "      <td>soft</td>\n",
       "      <td>good</td>\n",
       "      <td>enough</td>\n",
       "      <td>enough</td>\n",
       "      <td>spring</td>\n",
       "      <td>spring</td>\n",
       "      <td>groundwater</td>\n",
       "      <td>communal standpipe</td>\n",
       "      <td>communal standpipe</td>\n",
       "    </tr>\n",
       "  </tbody>\n",
       "</table>\n",
       "<p>5 rows × 40 columns</p>\n",
       "</div>"
      ],
      "text/plain": [
       "      id  amount_tsh date_recorded                  funder  gps_height  \\\n",
       "0  50785         0.0    2013-02-04                    Dmdd        1996   \n",
       "1  51630         0.0    2013-02-04  Government Of Tanzania        1569   \n",
       "2  17168         0.0    2013-02-01                     NaN        1567   \n",
       "3  45559         0.0    2013-01-22              Finn Water         267   \n",
       "4  49871       500.0    2013-03-27                  Bruder        1260   \n",
       "\n",
       "    installer  longitude   latitude                 wpt_name  num_private  \\\n",
       "0        DMDD  35.290799  -4.059696  Dinamu Secondary School            0   \n",
       "1         DWE  36.656709  -3.309214                  Kimnyak            0   \n",
       "2         NaN  34.767863  -5.004344           Puma Secondary            0   \n",
       "3  FINN WATER  38.058046  -9.418672           Kwa Mzee Pange            0   \n",
       "4      BRUDER  35.006123 -10.950412          Kwa Mzee Turuka            0   \n",
       "\n",
       "   ... payment_type water_quality quality_group      quantity  quantity_group  \\\n",
       "0  ...    never pay          soft          good      seasonal        seasonal   \n",
       "1  ...    never pay          soft          good  insufficient    insufficient   \n",
       "2  ...    never pay          soft          good  insufficient    insufficient   \n",
       "3  ...      unknown          soft          good           dry             dry   \n",
       "4  ...      monthly          soft          good        enough          enough   \n",
       "\n",
       "                 source           source_type  source_class  \\\n",
       "0  rainwater harvesting  rainwater harvesting       surface   \n",
       "1                spring                spring   groundwater   \n",
       "2  rainwater harvesting  rainwater harvesting       surface   \n",
       "3          shallow well          shallow well   groundwater   \n",
       "4                spring                spring   groundwater   \n",
       "\n",
       "      waterpoint_type waterpoint_type_group  \n",
       "0               other                 other  \n",
       "1  communal standpipe    communal standpipe  \n",
       "2               other                 other  \n",
       "3               other                 other  \n",
       "4  communal standpipe    communal standpipe  \n",
       "\n",
       "[5 rows x 40 columns]"
      ]
     },
     "metadata": {},
     "output_type": "display_data"
    },
    {
     "name": "stdout",
     "output_type": "stream",
     "text": [
      "<class 'pandas.core.frame.DataFrame'>\n",
      "RangeIndex: 14850 entries, 0 to 14849\n",
      "Data columns (total 40 columns):\n",
      "id                       14850 non-null int64\n",
      "amount_tsh               14850 non-null float64\n",
      "date_recorded            14850 non-null object\n",
      "funder                   13981 non-null object\n",
      "gps_height               14850 non-null int64\n",
      "installer                13973 non-null object\n",
      "longitude                14850 non-null float64\n",
      "latitude                 14850 non-null float64\n",
      "wpt_name                 14850 non-null object\n",
      "num_private              14850 non-null int64\n",
      "basin                    14850 non-null object\n",
      "subvillage               14751 non-null object\n",
      "region                   14850 non-null object\n",
      "region_code              14850 non-null int64\n",
      "district_code            14850 non-null int64\n",
      "lga                      14850 non-null object\n",
      "ward                     14850 non-null object\n",
      "population               14850 non-null int64\n",
      "public_meeting           14029 non-null object\n",
      "recorded_by              14850 non-null object\n",
      "scheme_management        13881 non-null object\n",
      "scheme_name              7758 non-null object\n",
      "permit                   14113 non-null object\n",
      "construction_year        14850 non-null int64\n",
      "extraction_type          14850 non-null object\n",
      "extraction_type_group    14850 non-null object\n",
      "extraction_type_class    14850 non-null object\n",
      "management               14850 non-null object\n",
      "management_group         14850 non-null object\n",
      "payment                  14850 non-null object\n",
      "payment_type             14850 non-null object\n",
      "water_quality            14850 non-null object\n",
      "quality_group            14850 non-null object\n",
      "quantity                 14850 non-null object\n",
      "quantity_group           14850 non-null object\n",
      "source                   14850 non-null object\n",
      "source_type              14850 non-null object\n",
      "source_class             14850 non-null object\n",
      "waterpoint_type          14850 non-null object\n",
      "waterpoint_type_group    14850 non-null object\n",
      "dtypes: float64(3), int64(7), object(30)\n",
      "memory usage: 4.5+ MB\n"
     ]
    }
   ],
   "source": [
    "df = pd.read_csv(\"../data/X_validate.csv\")\n",
    "display(df.head())\n",
    "df.info()"
   ]
  },
  {
   "cell_type": "code",
   "execution_count": 4,
   "metadata": {},
   "outputs": [],
   "source": [
    "f = open(\"../data/mean_dicts.pkl\", 'rb')\n",
    "coord_dict_region = pickle.load(f)\n",
    "coord_dict_lga = pickle.load(f)\n",
    "gps_dict_region = pickle.load(f)\n",
    "gps_dict_district = pickle.load(f)\n",
    "pop_dict_ward = pickle.load(f)\n",
    "pop_dict_district = pickle.load(f)\n",
    "year_prob_dict = pickle.load(f)\n",
    "f.close()"
   ]
  },
  {
   "cell_type": "code",
   "execution_count": 5,
   "metadata": {},
   "outputs": [
    {
     "data": {
      "text/plain": [
       "33.244879    269\n",
       "33.091564    186\n",
       "32.920579      2\n",
       "39.080573      2\n",
       "34.895027      2\n",
       "            ... \n",
       "30.926134      1\n",
       "37.227967      1\n",
       "36.032819      1\n",
       "35.628949      1\n",
       "34.452772      1\n",
       "Name: longitude, Length: 14392, dtype: int64"
      ]
     },
     "execution_count": 5,
     "metadata": {},
     "output_type": "execute_result"
    }
   ],
   "source": [
    "# coordinates\n",
    "for i, row in df.iterrows():\n",
    "    if row['longitude'] < 25:\n",
    "        region = row['region_code']\n",
    "        row['longitude'] = coord_dict_region.get('longitude').get(region)\n",
    "        row['latitude']= coord_dict_region.get('latitude').get(region)\n",
    "\n",
    "df['longitude'].value_counts()"
   ]
  },
  {
   "cell_type": "code",
   "execution_count": 6,
   "metadata": {},
   "outputs": [
    {
     "data": {
      "text/plain": [
       "-3.491473    269\n",
       "-2.620502    186\n",
       "-2.474560      2\n",
       "-8.904674      2\n",
       "-6.990042      2\n",
       "            ... \n",
       "-9.320133      1\n",
       "-9.114386      1\n",
       "-3.134371      1\n",
       "-3.885609      1\n",
       "-8.477215      1\n",
       "Name: latitude, Length: 14392, dtype: int64"
      ]
     },
     "execution_count": 6,
     "metadata": {},
     "output_type": "execute_result"
    }
   ],
   "source": [
    "df['latitude'].value_counts() # check"
   ]
  },
  {
   "cell_type": "code",
   "execution_count": 7,
   "metadata": {},
   "outputs": [
    {
     "data": {
      "text/plain": [
       "56      1276\n",
       "191      679\n",
       "743      640\n",
       "861      578\n",
       "642      498\n",
       "        ... \n",
       "195        1\n",
       "179        1\n",
       "2210       1\n",
       "2202       1\n",
       "2069       1\n",
       "Name: gps_height, Length: 2105, dtype: int64"
      ]
     },
     "execution_count": 7,
     "metadata": {},
     "output_type": "execute_result"
    }
   ],
   "source": [
    "# altitude\n",
    "for i, row in df.iterrows():\n",
    "    region = df['region_code'][i]\n",
    "    district = df['district_code'][i]\n",
    "    # lowest point is sea level so neg. numbers are suspect\n",
    "    if df['gps_height'][i] <= 0:\n",
    "        df['gps_height'][i] = gps_dict_region.get(region)\n",
    "    # fill in remaining wiht distict (less complete)\n",
    "    if df['gps_height'][i] == 0:\n",
    "        df['gps_height'][i] = gps_dict_district.get(district)\n",
    "df['gps_height'].value_counts() # check for 0s"
   ]
  },
  {
   "cell_type": "code",
   "execution_count": 8,
   "metadata": {},
   "outputs": [
    {
     "data": {
      "text/plain": [
       "2009    1019\n",
       "2010     983\n",
       "2008     967\n",
       "2000     808\n",
       "2006     606\n",
       "2007     577\n",
       "2011     499\n",
       "2003     464\n",
       "2004     453\n",
       "2012     420\n",
       "Name: construction_year, dtype: int64"
      ]
     },
     "execution_count": 8,
     "metadata": {},
     "output_type": "execute_result"
    }
   ],
   "source": [
    "# time\n",
    "df['date_recorded'] = pd.to_datetime(df['date_recorded'])\n",
    "df['year_rec'] = pd.DatetimeIndex(df['date_recorded']).year\n",
    "df['month_rec'] = pd.DatetimeIndex(df['date_recorded']).month\n",
    "df['construction_year'] = df['construction_year'].apply(fill_construction_year)\n",
    "df['age'] = df['year_rec'] - df['construction_year']\n",
    "df['construction_year'].value_counts()[0:10]"
   ]
  },
  {
   "cell_type": "code",
   "execution_count": 9,
   "metadata": {},
   "outputs": [
    {
     "data": {
      "text/plain": [
       "1.0       1786\n",
       "180.0     1052\n",
       "182.0      821\n",
       "229.0      818\n",
       "132.0      710\n",
       "          ... \n",
       "458.0        1\n",
       "495.0        1\n",
       "956.0        1\n",
       "91.0         1\n",
       "4735.0       1\n",
       "Name: population, Length: 661, dtype: int64"
      ]
     },
     "metadata": {},
     "output_type": "display_data"
    }
   ],
   "source": [
    "# population\n",
    "for i, row in df.iterrows():\n",
    "    ward = df['ward'][i]\n",
    "    district = df['district_code'][i]\n",
    "    if df['population'][i] <= 0:\n",
    "        df['population'][i] = pop_dict_ward.get(ward)\n",
    "    if df['population'][i] <= 0:\n",
    "        df['population'][i] = pop_dict_district.get(district)\n",
    "\n",
    "df['population'].fillna(0, inplace=True)\n",
    "        \n",
    "display(df['population'].value_counts()) # check"
   ]
  },
  {
   "cell_type": "code",
   "execution_count": 10,
   "metadata": {},
   "outputs": [
    {
     "data": {
      "text/plain": [
       "0"
      ]
     },
     "execution_count": 10,
     "metadata": {},
     "output_type": "execute_result"
    }
   ],
   "source": [
    "# scheme\n",
    "df['scheme_management'].fillna(value='unknown', inplace=True)\n",
    "df['scheme_management'].isna().sum() # check"
   ]
  },
  {
   "cell_type": "code",
   "execution_count": 11,
   "metadata": {},
   "outputs": [
    {
     "name": "stdout",
     "output_type": "stream",
     "text": [
      "Value counts: permit \n",
      " True     9754\n",
      "False    5096\n",
      "Name: permit, dtype: int64 \n",
      " -------\n",
      "Value counts: public_meeting \n",
      " True     12738\n",
      "False     2112\n",
      "Name: public_meeting, dtype: int64 \n",
      " -------\n"
     ]
    }
   ],
   "source": [
    "# permit/meeting\n",
    "boolean = ['permit', 'public_meeting']\n",
    "for col in boolean:\n",
    "    df[col].fillna(False, inplace=True)\n",
    "    df[col].astype(int)\n",
    "    print(f\"Value counts: {col} \\n {df[col].value_counts()} \\n -------\")"
   ]
  },
  {
   "cell_type": "code",
   "execution_count": 12,
   "metadata": {},
   "outputs": [
    {
     "data": {
      "text/plain": [
       "other    12153\n",
       "rural     2262\n",
       "urban      435\n",
       "Name: lga, dtype: int64"
      ]
     },
     "execution_count": 12,
     "metadata": {},
     "output_type": "execute_result"
    }
   ],
   "source": [
    "# local government authority\n",
    "for i, lga in enumerate(df['lga']):\n",
    "    item = lga.lower()\n",
    "    if 'rural' in item:\n",
    "        df['lga'][i] = 'rural'\n",
    "        continue\n",
    "    if 'urban' in item:\n",
    "        df['lga'][i] = 'urban'\n",
    "    else:\n",
    "        df['lga'][i] = 'other'\n",
    "df['lga'].value_counts()"
   ]
  },
  {
   "cell_type": "code",
   "execution_count": 13,
   "metadata": {},
   "outputs": [],
   "source": [
    "# drop\n",
    "to_drop_numeric = ['num_private', 'amount_tsh']\n",
    "to_drop_cats = ['date_recorded', 'recorded_by', 'waterpoint_type_group', 'quantity_group', \n",
    "                   'quality_group', 'payment_type', 'management_group', 'scheme_name', 'wpt_name',\n",
    "                   'funder', 'installer', 'extraction_type', 'extraction_type_class', 'subvillage',\n",
    "                   'ward', 'source_class', 'source_type']\n",
    "to_drop = to_drop_numeric + to_drop_cats\n",
    "df.drop(columns=to_drop, inplace=True)"
   ]
  },
  {
   "cell_type": "code",
   "execution_count": 14,
   "metadata": {
    "scrolled": true
   },
   "outputs": [
    {
     "name": "stdout",
     "output_type": "stream",
     "text": [
      "<class 'pandas.core.frame.DataFrame'>\n",
      "RangeIndex: 14850 entries, 0 to 14849\n",
      "Data columns (total 24 columns):\n",
      "id                       14850 non-null int64\n",
      "gps_height               14850 non-null int64\n",
      "longitude                14850 non-null float64\n",
      "latitude                 14850 non-null float64\n",
      "basin                    14850 non-null object\n",
      "region                   14850 non-null object\n",
      "region_code              14850 non-null int64\n",
      "district_code            14850 non-null int64\n",
      "lga                      14850 non-null object\n",
      "population               14850 non-null float64\n",
      "public_meeting           14850 non-null bool\n",
      "scheme_management        14850 non-null object\n",
      "permit                   14850 non-null bool\n",
      "construction_year        14850 non-null int64\n",
      "extraction_type_group    14850 non-null object\n",
      "management               14850 non-null object\n",
      "payment                  14850 non-null object\n",
      "water_quality            14850 non-null object\n",
      "quantity                 14850 non-null object\n",
      "source                   14850 non-null object\n",
      "waterpoint_type          14850 non-null object\n",
      "year_rec                 14850 non-null int64\n",
      "month_rec                14850 non-null int64\n",
      "age                      14850 non-null int64\n",
      "dtypes: bool(2), float64(3), int64(8), object(11)\n",
      "memory usage: 2.5+ MB\n"
     ]
    },
    {
     "data": {
      "text/plain": [
       "None"
      ]
     },
     "metadata": {},
     "output_type": "display_data"
    },
    {
     "data": {
      "text/plain": [
       "id                          0\n",
       "gps_height                  4\n",
       "longitude                   0\n",
       "latitude                    0\n",
       "basin                       0\n",
       "region                      0\n",
       "region_code                 0\n",
       "district_code               4\n",
       "lga                         0\n",
       "population                 12\n",
       "public_meeting           2112\n",
       "scheme_management           0\n",
       "permit                   5096\n",
       "construction_year           0\n",
       "extraction_type_group       0\n",
       "management                  0\n",
       "payment                     0\n",
       "water_quality               0\n",
       "quantity                    0\n",
       "source                      0\n",
       "waterpoint_type             0\n",
       "year_rec                    0\n",
       "month_rec                   0\n",
       "age                       302\n",
       "dtype: int64"
      ]
     },
     "execution_count": 14,
     "metadata": {},
     "output_type": "execute_result"
    }
   ],
   "source": [
    "# check\n",
    "display(df.info())\n",
    "(df == 0).sum()"
   ]
  },
  {
   "cell_type": "code",
   "execution_count": 17,
   "metadata": {},
   "outputs": [],
   "source": [
    "# export for modelin\n",
    "df.to_csv(\"../data/X_validate_transformed.csv\", index=False)"
   ]
  },
  {
   "cell_type": "code",
   "execution_count": null,
   "metadata": {},
   "outputs": [],
   "source": []
  }
 ],
 "metadata": {
  "kernelspec": {
   "display_name": "Python 3",
   "language": "python",
   "name": "python3"
  },
  "language_info": {
   "codemirror_mode": {
    "name": "ipython",
    "version": 3
   },
   "file_extension": ".py",
   "mimetype": "text/x-python",
   "name": "python",
   "nbconvert_exporter": "python",
   "pygments_lexer": "ipython3",
   "version": "3.6.9"
  }
 },
 "nbformat": 4,
 "nbformat_minor": 4
}
