{
 "cells": [
  {
   "cell_type": "markdown",
   "metadata": {},
   "source": [
    "# MODELING\n",
    "Train a model to classify waterpoint functionality. Ternary classification: 'functional', 'non-functional', and 'functional needs repair'. There is a significant class imbalance. Data was cleaned and missing value imputed, please see [cleaning notebook](./data_cleaning.ipynb) for resoning. Validation data was cleaned/imputed in the same way [here](./validation_transformation.ipynb). Will try the following classifiers: Random Forest, Bagged Tree, Gradient Boosted, and XG Boosted."
   ]
  },
  {
   "cell_type": "code",
   "execution_count": 1,
   "metadata": {},
   "outputs": [],
   "source": [
    "import pandas as pd\n",
    "import numpy as np\n",
    "import pickle\n",
    "import matplotlib.pyplot as plt\n",
    "%matplotlib inline\n",
    "\n",
    "from sklearn.model_selection import train_test_split, GridSearchCV, cross_val_score\n",
    "from sklearn.preprocessing import OneHotEncoder, StandardScaler\n",
    "from sklearn.tree import DecisionTreeClassifier\n",
    "from sklearn.ensemble import BaggingClassifier, RandomForestClassifier, GradientBoostingClassifier\n",
    "from sklearn.metrics import accuracy_score, confusion_matrix, plot_confusion_matrix\n",
    "from sklearn.utils import resample\n",
    "from imblearn.over_sampling import SMOTE\n",
    "import xgboost as xgb\n",
    "\n",
    "np.random.seed(619)"
   ]
  },
  {
   "cell_type": "code",
   "execution_count": 2,
   "metadata": {},
   "outputs": [],
   "source": [
    "def print_accuracy(model, X_train, y_train, X_test, y_test, cm=False, get_y_hat=False):\n",
    "    \"\"\" X's should be preprocessed identically.\n",
    "        Confusion matrix: rows = TRUE, columns = predicted, \n",
    "        top L diagonal down to bottom R are TRUE-POSITIVE.\n",
    "        TRUE-NEG: a 0 outside the TP diagonal.\n",
    "        False-Pos: column of an item that is not in True row (falsely pred as item).\n",
    "        False-Neg: row of an item that is not in Pred colum (falsey pred as NOT item)\"\"\"\n",
    "    y_pred_train = model.predict(X_train)\n",
    "    y_pred_test = model.predict(X_test)\n",
    "    acc_test = round(accuracy_score(y_test, y_pred_test),3) * 100\n",
    "    acc_train = round(accuracy_score(y_train, y_pred_train),3) * 100\n",
    "    print(f'Test accuracy: {acc_test} %')\n",
    "    print(f'Train accuracy: {acc_train} %')\n",
    "    if cm == True:\n",
    "        print(confusion_matrix(y_test, y_pred_test))\n",
    "    if get_y_hat == True:\n",
    "        return y_pred_test\n",
    "\n",
    "def plot_confusion(model, X_test, y_test, normalize=None, form='.2f'):\n",
    "    \"\"\" normalize{‘true’, ‘pred’, ‘all’}, default=None\n",
    "        Normalizes over the true (rows), predicted (columns) conditions or all the population. \n",
    "        If None, confusion matrix will not be normalized.\"\"\"\n",
    "    plot_confusion_matrix(model, X_test, y_test, \n",
    "                          cmap=plt.cm.Blues, xticks_rotation='vertical',\n",
    "                          normalize=normalize, values_format=form)\n",
    "    plt.show()\n",
    "    \n",
    "def plot_feature_importance(model, ohencoder, X_encoder_input, num_features=25):\n",
    "    top_features_list = []\n",
    "    for item in zip(ohencoder.get_feature_names(X_encoder_input.columns), model.feature_importances_):\n",
    "        if item[1] > 0:\n",
    "            top_features_list.append(item)\n",
    "    top_feats = sorted(top_features_list, key=lambda x: x[1], reverse=True)\n",
    "    x_feats_importance = list(map(lambda x: x[1], top_feats[:num_features]))\n",
    "    y_feats_labels = list(map(lambda x: x[0], top_feats[:num_features]))\n",
    "    fig, ax = plt.subplots(figsize=(10,10))\n",
    "    plt.barh(y_feats_labels, x_feats_importance, align='center')\n",
    "    ax.set_yticks(y_feats_labels)\n",
    "    ax.set_yticklabels(y_feats_labels)\n",
    "    ax.invert_yaxis()  # labels read top-to-bottom\n",
    "    ax.set_xlabel('Importance')\n",
    "    ax.set_ylabel('Features')\n",
    "    ax.set_title(f'Top {num_features} Features Ranked by Importance')\n",
    "    plt.show()\n",
    "\n",
    "def get_mean_cross_val(model, full_train_df, target, cv=5):\n",
    "    \"\"\"Pass in the entire training dataset, as well as all of the labels\"\"\"\n",
    "    return f\"Cross-Val Score (k=5):'{cross_val_score(model, full_train_df, target, cv=cv).mean()}\"\n",
    "\n",
    "def print_GS_results(gridSearch, df=False):\n",
    "    if df == True:\n",
    "        display(pd.DataFrame(gridSearch.cv_results_))\n",
    "    print(\"Best Score:\", gridSearch.best_score_)\n",
    "    return gridSearch.best_params_"
   ]
  },
  {
   "cell_type": "code",
   "execution_count": 3,
   "metadata": {},
   "outputs": [
    {
     "data": {
      "text/html": [
       "<div>\n",
       "<style scoped>\n",
       "    .dataframe tbody tr th:only-of-type {\n",
       "        vertical-align: middle;\n",
       "    }\n",
       "\n",
       "    .dataframe tbody tr th {\n",
       "        vertical-align: top;\n",
       "    }\n",
       "\n",
       "    .dataframe thead th {\n",
       "        text-align: right;\n",
       "    }\n",
       "</style>\n",
       "<table border=\"1\" class=\"dataframe\">\n",
       "  <thead>\n",
       "    <tr style=\"text-align: right;\">\n",
       "      <th></th>\n",
       "      <th>gps_height</th>\n",
       "      <th>longitude</th>\n",
       "      <th>latitude</th>\n",
       "      <th>basin</th>\n",
       "      <th>region</th>\n",
       "      <th>region_code</th>\n",
       "      <th>district_code</th>\n",
       "      <th>lga</th>\n",
       "      <th>population</th>\n",
       "      <th>public_meeting</th>\n",
       "      <th>...</th>\n",
       "      <th>management</th>\n",
       "      <th>payment</th>\n",
       "      <th>water_quality</th>\n",
       "      <th>quantity</th>\n",
       "      <th>source</th>\n",
       "      <th>waterpoint_type</th>\n",
       "      <th>status_group</th>\n",
       "      <th>year_rec</th>\n",
       "      <th>month_rec</th>\n",
       "      <th>age</th>\n",
       "    </tr>\n",
       "    <tr>\n",
       "      <th>id</th>\n",
       "      <th></th>\n",
       "      <th></th>\n",
       "      <th></th>\n",
       "      <th></th>\n",
       "      <th></th>\n",
       "      <th></th>\n",
       "      <th></th>\n",
       "      <th></th>\n",
       "      <th></th>\n",
       "      <th></th>\n",
       "      <th></th>\n",
       "      <th></th>\n",
       "      <th></th>\n",
       "      <th></th>\n",
       "      <th></th>\n",
       "      <th></th>\n",
       "      <th></th>\n",
       "      <th></th>\n",
       "      <th></th>\n",
       "      <th></th>\n",
       "      <th></th>\n",
       "    </tr>\n",
       "  </thead>\n",
       "  <tbody>\n",
       "    <tr>\n",
       "      <th>69572</th>\n",
       "      <td>1390</td>\n",
       "      <td>34.938093</td>\n",
       "      <td>-9.856322</td>\n",
       "      <td>Lake Nyasa</td>\n",
       "      <td>Iringa</td>\n",
       "      <td>11</td>\n",
       "      <td>5</td>\n",
       "      <td>other</td>\n",
       "      <td>109</td>\n",
       "      <td>True</td>\n",
       "      <td>...</td>\n",
       "      <td>vwc</td>\n",
       "      <td>pay annually</td>\n",
       "      <td>soft</td>\n",
       "      <td>enough</td>\n",
       "      <td>spring</td>\n",
       "      <td>communal standpipe</td>\n",
       "      <td>functional</td>\n",
       "      <td>2011</td>\n",
       "      <td>3</td>\n",
       "      <td>12</td>\n",
       "    </tr>\n",
       "    <tr>\n",
       "      <th>8776</th>\n",
       "      <td>1399</td>\n",
       "      <td>34.698766</td>\n",
       "      <td>-2.147466</td>\n",
       "      <td>Lake Victoria</td>\n",
       "      <td>Mara</td>\n",
       "      <td>20</td>\n",
       "      <td>2</td>\n",
       "      <td>other</td>\n",
       "      <td>280</td>\n",
       "      <td>False</td>\n",
       "      <td>...</td>\n",
       "      <td>wug</td>\n",
       "      <td>never pay</td>\n",
       "      <td>soft</td>\n",
       "      <td>insufficient</td>\n",
       "      <td>rainwater harvesting</td>\n",
       "      <td>communal standpipe</td>\n",
       "      <td>functional</td>\n",
       "      <td>2013</td>\n",
       "      <td>3</td>\n",
       "      <td>3</td>\n",
       "    </tr>\n",
       "    <tr>\n",
       "      <th>34310</th>\n",
       "      <td>686</td>\n",
       "      <td>37.460664</td>\n",
       "      <td>-3.821329</td>\n",
       "      <td>Pangani</td>\n",
       "      <td>Manyara</td>\n",
       "      <td>21</td>\n",
       "      <td>4</td>\n",
       "      <td>other</td>\n",
       "      <td>250</td>\n",
       "      <td>True</td>\n",
       "      <td>...</td>\n",
       "      <td>vwc</td>\n",
       "      <td>pay per bucket</td>\n",
       "      <td>soft</td>\n",
       "      <td>enough</td>\n",
       "      <td>dam</td>\n",
       "      <td>communal standpipe multiple</td>\n",
       "      <td>functional</td>\n",
       "      <td>2013</td>\n",
       "      <td>2</td>\n",
       "      <td>4</td>\n",
       "    </tr>\n",
       "    <tr>\n",
       "      <th>67743</th>\n",
       "      <td>263</td>\n",
       "      <td>38.486161</td>\n",
       "      <td>-11.155298</td>\n",
       "      <td>Ruvuma / Southern Coast</td>\n",
       "      <td>Mtwara</td>\n",
       "      <td>90</td>\n",
       "      <td>63</td>\n",
       "      <td>other</td>\n",
       "      <td>58</td>\n",
       "      <td>True</td>\n",
       "      <td>...</td>\n",
       "      <td>vwc</td>\n",
       "      <td>never pay</td>\n",
       "      <td>soft</td>\n",
       "      <td>dry</td>\n",
       "      <td>machine dbh</td>\n",
       "      <td>communal standpipe multiple</td>\n",
       "      <td>non functional</td>\n",
       "      <td>2013</td>\n",
       "      <td>1</td>\n",
       "      <td>27</td>\n",
       "    </tr>\n",
       "    <tr>\n",
       "      <th>19728</th>\n",
       "      <td>743</td>\n",
       "      <td>31.130847</td>\n",
       "      <td>-1.825359</td>\n",
       "      <td>Lake Victoria</td>\n",
       "      <td>Kagera</td>\n",
       "      <td>18</td>\n",
       "      <td>1</td>\n",
       "      <td>other</td>\n",
       "      <td>182</td>\n",
       "      <td>True</td>\n",
       "      <td>...</td>\n",
       "      <td>other</td>\n",
       "      <td>never pay</td>\n",
       "      <td>soft</td>\n",
       "      <td>seasonal</td>\n",
       "      <td>rainwater harvesting</td>\n",
       "      <td>communal standpipe</td>\n",
       "      <td>functional</td>\n",
       "      <td>2011</td>\n",
       "      <td>7</td>\n",
       "      <td>-1</td>\n",
       "    </tr>\n",
       "  </tbody>\n",
       "</table>\n",
       "<p>5 rows × 24 columns</p>\n",
       "</div>"
      ],
      "text/plain": [
       "       gps_height  longitude   latitude                    basin   region  \\\n",
       "id                                                                          \n",
       "69572        1390  34.938093  -9.856322               Lake Nyasa   Iringa   \n",
       "8776         1399  34.698766  -2.147466            Lake Victoria     Mara   \n",
       "34310         686  37.460664  -3.821329                  Pangani  Manyara   \n",
       "67743         263  38.486161 -11.155298  Ruvuma / Southern Coast   Mtwara   \n",
       "19728         743  31.130847  -1.825359            Lake Victoria   Kagera   \n",
       "\n",
       "       region_code  district_code    lga  population  public_meeting  ...  \\\n",
       "id                                                                    ...   \n",
       "69572           11              5  other         109            True  ...   \n",
       "8776            20              2  other         280           False  ...   \n",
       "34310           21              4  other         250            True  ...   \n",
       "67743           90             63  other          58            True  ...   \n",
       "19728           18              1  other         182            True  ...   \n",
       "\n",
       "      management         payment  water_quality      quantity  \\\n",
       "id                                                              \n",
       "69572        vwc    pay annually           soft        enough   \n",
       "8776         wug       never pay           soft  insufficient   \n",
       "34310        vwc  pay per bucket           soft        enough   \n",
       "67743        vwc       never pay           soft           dry   \n",
       "19728      other       never pay           soft      seasonal   \n",
       "\n",
       "                     source              waterpoint_type    status_group  \\\n",
       "id                                                                         \n",
       "69572                spring           communal standpipe      functional   \n",
       "8776   rainwater harvesting           communal standpipe      functional   \n",
       "34310                   dam  communal standpipe multiple      functional   \n",
       "67743           machine dbh  communal standpipe multiple  non functional   \n",
       "19728  rainwater harvesting           communal standpipe      functional   \n",
       "\n",
       "      year_rec month_rec age  \n",
       "id                            \n",
       "69572     2011         3  12  \n",
       "8776      2013         3   3  \n",
       "34310     2013         2   4  \n",
       "67743     2013         1  27  \n",
       "19728     2011         7  -1  \n",
       "\n",
       "[5 rows x 24 columns]"
      ]
     },
     "metadata": {},
     "output_type": "display_data"
    },
    {
     "name": "stdout",
     "output_type": "stream",
     "text": [
      "<class 'pandas.core.frame.DataFrame'>\n",
      "Int64Index: 59400 entries, 69572 to 26348\n",
      "Data columns (total 24 columns):\n",
      "gps_height               59400 non-null int64\n",
      "longitude                59400 non-null float64\n",
      "latitude                 59400 non-null float64\n",
      "basin                    59400 non-null object\n",
      "region                   59400 non-null object\n",
      "region_code              59400 non-null int64\n",
      "district_code            59400 non-null int64\n",
      "lga                      59400 non-null object\n",
      "population               59400 non-null int64\n",
      "public_meeting           59400 non-null bool\n",
      "scheme_management        59400 non-null object\n",
      "permit                   59400 non-null bool\n",
      "construction_year        59400 non-null int64\n",
      "extraction_type_group    59400 non-null object\n",
      "management               59400 non-null object\n",
      "payment                  59400 non-null object\n",
      "water_quality            59400 non-null object\n",
      "quantity                 59400 non-null object\n",
      "source                   59400 non-null object\n",
      "waterpoint_type          59400 non-null object\n",
      "status_group             59400 non-null object\n",
      "year_rec                 59400 non-null int64\n",
      "month_rec                59400 non-null int64\n",
      "age                      59400 non-null int64\n",
      "dtypes: bool(2), float64(2), int64(8), object(12)\n",
      "memory usage: 10.5+ MB\n"
     ]
    }
   ],
   "source": [
    "# import cleaned training data as the modeling set\n",
    "df_train = pd.read_csv(\"../data/cleaned_train_df.csv\", index_col='id')\n",
    "display(df_train.head())\n",
    "df_train.info()"
   ]
  },
  {
   "cell_type": "code",
   "execution_count": 4,
   "metadata": {},
   "outputs": [
    {
     "data": {
      "text/plain": [
       "functional                 0.543081\n",
       "non functional             0.384242\n",
       "functional needs repair    0.072677\n",
       "Name: status_group, dtype: float64"
      ]
     },
     "execution_count": 4,
     "metadata": {},
     "output_type": "execute_result"
    }
   ],
   "source": [
    "# seperate target from predictors, examine target distribution\n",
    "y = df_train['status_group']\n",
    "X = df_train.drop(columns = 'status_group')\n",
    "y.value_counts(normalize=True)"
   ]
  },
  {
   "cell_type": "code",
   "execution_count": 5,
   "metadata": {},
   "outputs": [],
   "source": [
    "# define numeric and categorical columns\n",
    "numeric = list(X.select_dtypes(np.number).columns)\n",
    "categorical = list(X.select_dtypes('object').columns)"
   ]
  },
  {
   "cell_type": "code",
   "execution_count": 6,
   "metadata": {},
   "outputs": [],
   "source": [
    "# divide the modeling set into a train/test split\n",
    "X_train, X_test, y_train, y_test = train_test_split(X, y, test_size = 0.15, random_state=7)"
   ]
  },
  {
   "cell_type": "markdown",
   "metadata": {},
   "source": [
    "#### Preprocessing"
   ]
  },
  {
   "cell_type": "code",
   "execution_count": 7,
   "metadata": {},
   "outputs": [],
   "source": [
    "# typically scale numeric, but for the models selected to try it is not necessary\n",
    "# encoded the categorical columns\n",
    "ohe = OneHotEncoder(handle_unknown = 'ignore')\n",
    "ohe.fit(X_train)\n",
    "X_train_encoded = ohe.transform(X_train)\n",
    "X_test_encoded = ohe.transform(X_test)"
   ]
  },
  {
   "cell_type": "markdown",
   "metadata": {},
   "source": [
    "## Random Forest\n",
    "#### Baseline Model"
   ]
  },
  {
   "cell_type": "code",
   "execution_count": 43,
   "metadata": {},
   "outputs": [
    {
     "data": {
      "text/plain": [
       "RandomForestClassifier()"
      ]
     },
     "execution_count": 43,
     "metadata": {},
     "output_type": "execute_result"
    }
   ],
   "source": [
    "base_forest = RandomForestClassifier(verbose=2)\n",
    "base_forest.fit(X_train_encoded, y_train)"
   ]
  },
  {
   "cell_type": "code",
   "execution_count": 47,
   "metadata": {},
   "outputs": [
    {
     "name": "stdout",
     "output_type": "stream",
     "text": [
      "Test accuracy: 78.7 %\n",
      "Train accuracy: 99.9 %\n",
      "[[4385   71  378]\n",
      " [ 372  159  116]\n",
      " [ 939   23 2467]]\n"
     ]
    }
   ],
   "source": [
    "print_accuracy(base_forest, X_train_encoded, y_train, X_test_encoded, y_test, cm=True)"
   ]
  },
  {
   "cell_type": "markdown",
   "metadata": {},
   "source": [
    "Quite significant overfitting. No max depth was set so the forest attempted to classify every point. Let's reign it in with some pruning."
   ]
  },
  {
   "cell_type": "markdown",
   "metadata": {},
   "source": [
    "#### Parameter Tuning to Find Best Model"
   ]
  },
  {
   "cell_type": "code",
   "execution_count": null,
   "metadata": {},
   "outputs": [],
   "source": [
    "# forest = RandomForestClassifier(verbose=2)\n",
    "\n",
    "# forest_param_grid = {\"n_estimators\" : [10, 50, 100],\n",
    "#                 'criterion' : ['gini', 'entropy'],\n",
    "#                 'max_depth' : [4, 6, 10],\n",
    "#                 'min_samples_split' : [5, 10],\n",
    "#                 'min_samples_leaf' : [3, 6]\n",
    "#                 }\n",
    "\n",
    "# gs_forest = GridSearchCV(estimator=forest, param_grid=forest_param_grid, \n",
    "#                          scoring='accuracy', cv=3, \n",
    "#                          verbose=2, n_jobs=-1)\n",
    "# gs_forest.fit(X_train_encoded, y_train)"
   ]
  },
  {
   "cell_type": "code",
   "execution_count": null,
   "metadata": {},
   "outputs": [],
   "source": [
    "# view gridSearch results"
   ]
  },
  {
   "cell_type": "markdown",
   "metadata": {},
   "source": [
    "## Gradient Boost\n",
    "#### Baseline Model"
   ]
  },
  {
   "cell_type": "code",
   "execution_count": 49,
   "metadata": {
    "scrolled": true
   },
   "outputs": [
    {
     "name": "stdout",
     "output_type": "stream",
     "text": [
      "      Iter       Train Loss   Remaining Time \n",
      "         1           0.8501            5.89m\n",
      "         2           0.8206            4.02m\n",
      "         3           0.7974            3.30m\n",
      "         4           0.7783            2.85m\n",
      "         5           0.7626            2.53m\n",
      "         6           0.7497            2.32m\n",
      "         7           0.7385            2.17m\n",
      "         8           0.7285            2.06m\n",
      "         9           0.7198            1.97m\n",
      "        10           0.7118            1.90m\n",
      "        20           0.6620            1.57m\n",
      "        30           0.6359            1.36m\n",
      "        40           0.6186            1.15m\n",
      "        50           0.6063           57.62s\n",
      "        60           0.5966           45.64s\n",
      "        70           0.5884           34.01s\n",
      "        80           0.5815           22.64s\n",
      "        90           0.5754           11.28s\n",
      "       100           0.5703            0.00s\n"
     ]
    },
    {
     "data": {
      "text/plain": [
       "GradientBoostingClassifier(max_depth=4, verbose=1)"
      ]
     },
     "execution_count": 49,
     "metadata": {},
     "output_type": "execute_result"
    }
   ],
   "source": [
    "base_gbt = GradientBoostingClassifier(max_depth=4, verbose=1)\n",
    "base_gbt.fit(X_train_encoded, y_train)"
   ]
  },
  {
   "cell_type": "code",
   "execution_count": 50,
   "metadata": {},
   "outputs": [
    {
     "name": "stdout",
     "output_type": "stream",
     "text": [
      "Test accuracy: 75.7 %\n",
      "Train accuracy: 76.4 %\n",
      "[[4510   33  291]\n",
      " [ 452   89  106]\n",
      " [1268   17 2144]]\n"
     ]
    }
   ],
   "source": [
    "print_accuracy(base_gbt, X_train_encoded, y_train, X_test_encoded, y_test, cm = True)"
   ]
  },
  {
   "cell_type": "markdown",
   "metadata": {},
   "source": [
    "#### Parameter Tuning to Find Best Model"
   ]
  },
  {
   "cell_type": "code",
   "execution_count": null,
   "metadata": {
    "scrolled": true
   },
   "outputs": [],
   "source": [
    "gbt = GradientBoostingClassifier(verbose=2, max_depth = 3, n_estimators = 400, learning_rate =0.1)\n",
    "\n",
    "gbt.fit(X_train_encoded, y_train)"
   ]
  },
  {
   "cell_type": "markdown",
   "metadata": {},
   "source": [
    "#### Fit Best Model/Analysis\n"
   ]
  },
  {
   "cell_type": "code",
   "execution_count": 18,
   "metadata": {},
   "outputs": [
    {
     "name": "stdout",
     "output_type": "stream",
     "text": [
      "Test accuracy: 76.1 %\n",
      "Train accuracy: 76.9 %\n",
      "[[4470   27  337]\n",
      " [ 452   77  118]\n",
      " [1174   19 2236]]\n"
     ]
    }
   ],
   "source": [
    "# classification_report, accuracy_score\n",
    "print_accuracy(gbt, X_train_encoded, y_train, X_test_encoded, y_test, cm=True)"
   ]
  },
  {
   "cell_type": "markdown",
   "metadata": {},
   "source": [
    "## XG Boost\n",
    "#### Baseline Model"
   ]
  },
  {
   "cell_type": "code",
   "execution_count": 30,
   "metadata": {},
   "outputs": [
    {
     "data": {
      "text/plain": [
       "XGBClassifier(objective='multi:softprob')"
      ]
     },
     "execution_count": 30,
     "metadata": {},
     "output_type": "execute_result"
    }
   ],
   "source": [
    "base_xgbt = xgb.XGBClassifier(verbosity=1)\n",
    "base_xgbt.fit(X_train_encoded, y_train)"
   ]
  },
  {
   "cell_type": "code",
   "execution_count": 32,
   "metadata": {},
   "outputs": [
    {
     "name": "stdout",
     "output_type": "stream",
     "text": [
      "Test accuracy: 73.6 %\n",
      "Train accuracy: 74.2 %\n"
     ]
    }
   ],
   "source": [
    "print_accuracy(base_xgbt, X_train_encoded, y_train, X_test_encoded, y_test, cm=True)"
   ]
  },
  {
   "cell_type": "markdown",
   "metadata": {},
   "source": [
    "#### Parameter Tuning to Find Best Model"
   ]
  },
  {
   "cell_type": "code",
   "execution_count": null,
   "metadata": {},
   "outputs": [],
   "source": [
    "xgbt = xgb.XGBClassifier(verbosity=2)\n",
    "\n",
    "xg_param_grid = {\n",
    "                'max_depth': [7, 9],\n",
    "                'n_estimators': [200, 300],\n",
    "                }\n",
    "\n",
    "xgbt_gs = GridSearchCV(xgbt, xg_param_grid, scoring='accuracy', cv=3)\n",
    "xgbt_gs.fit(X_train_encoded, y_train)"
   ]
  },
  {
   "cell_type": "code",
   "execution_count": 21,
   "metadata": {},
   "outputs": [
    {
     "data": {
      "text/plain": [
       "{'max_depth': 9, 'n_estimators': 300}"
      ]
     },
     "execution_count": 21,
     "metadata": {},
     "output_type": "execute_result"
    }
   ],
   "source": [
    "xgbt_best_params = xgbt_gs.best_params_\n",
    "xgbt_best_params"
   ]
  },
  {
   "cell_type": "code",
   "execution_count": 25,
   "metadata": {},
   "outputs": [
    {
     "data": {
      "text/plain": [
       "0.7834224598930483"
      ]
     },
     "execution_count": 25,
     "metadata": {},
     "output_type": "execute_result"
    }
   ],
   "source": [
    "xgbt_gs.best_score_\n"
   ]
  },
  {
   "cell_type": "code",
   "execution_count": 26,
   "metadata": {},
   "outputs": [
    {
     "data": {
      "text/plain": [
       "XGBClassifier(max_depth=9, n_estimators=300, objective='multi:softprob',\n",
       "              verbosity=2)"
      ]
     },
     "execution_count": 26,
     "metadata": {},
     "output_type": "execute_result"
    }
   ],
   "source": [
    "xgbt_gs.best_estimator_"
   ]
  },
  {
   "cell_type": "code",
   "execution_count": 27,
   "metadata": {},
   "outputs": [
    {
     "name": "stdout",
     "output_type": "stream",
     "text": [
      "Test accuracy: 78.60000000000001 %\n",
      "Train accuracy: 82.89999999999999 %\n",
      "[[4451   59  324]\n",
      " [ 396  149  102]\n",
      " [1002   26 2401]]\n"
     ]
    }
   ],
   "source": [
    "print_accuracy(xgbt_gs, X_train_encoded, y_train, X_test_encoded, y_test, cm=True)"
   ]
  },
  {
   "cell_type": "code",
   "execution_count": null,
   "metadata": {},
   "outputs": [],
   "source": [
    "xgbt_gs_model= xgb.XGBClassifier(xgbt_best_params)\n",
    "xgbt_gs_model.fit(X_train_encoded, y_train)"
   ]
  },
  {
   "cell_type": "code",
   "execution_count": null,
   "metadata": {},
   "outputs": [],
   "source": [
    "print_accuracy(xgbt_gs_model, X_train_encoded, y_train, X_test_encoded, y_test, cm=True)"
   ]
  },
  {
   "cell_type": "markdown",
   "metadata": {},
   "source": [
    "#### Fit Best Model/Analysis"
   ]
  },
  {
   "cell_type": "code",
   "execution_count": 58,
   "metadata": {},
   "outputs": [
    {
     "data": {
      "text/plain": [
       "XGBClassifier(learning_rate=0.2, max_depth=6, min_child_weight=2,\n",
       "              objective='multi:softprob', subsample=0.7)"
      ]
     },
     "execution_count": 58,
     "metadata": {},
     "output_type": "execute_result"
    }
   ],
   "source": [
    "# fit best grid search\n",
    "best_xgbt = xgb.XGBClassifier(verbosity=1,learning_rate=0.2, max_depth=6, min_child_weight=2,n_estimators=100, subsample=0.7)\n",
    "best_xgbt.fit(X_train_encoded, y_train)"
   ]
  },
  {
   "cell_type": "code",
   "execution_count": 60,
   "metadata": {},
   "outputs": [
    {
     "name": "stdout",
     "output_type": "stream",
     "text": [
      "Test accuracy: 78.10000000000001 %\n",
      "Train accuracy: 79.60000000000001 %\n",
      "[[4465   46  323]\n",
      " [ 407  137  103]\n",
      " [1053   21 2355]]\n"
     ]
    }
   ],
   "source": [
    "# predict and score\n",
    "print_accuracy(best_xgbt, X_train_encoded, y_train, X_test_encoded, y_test, cm=True)"
   ]
  },
  {
   "cell_type": "markdown",
   "metadata": {},
   "source": [
    "A 4.5% increase in test accuracy from baseline XGBT!\n",
    "\n",
    "## Class Imbalance\n",
    "The two main classes are imbalanced and the third class is rare. I originally experimented with down sampling the majority classes and up sampling the minorities and reduced accuracy to around 70% for those trials. Third attempt will use SMOTE to generate artificial data to balance the classes."
   ]
  },
  {
   "cell_type": "code",
   "execution_count": 76,
   "metadata": {},
   "outputs": [
    {
     "data": {
      "text/plain": [
       "functional needs repair    27425\n",
       "functional                 27425\n",
       "non functional             19395\n",
       "Name: status_group, dtype: int64"
      ]
     },
     "execution_count": 76,
     "metadata": {},
     "output_type": "execute_result"
    }
   ],
   "source": [
    "# smote training set\n",
    "smote = SMOTE(sampling_strategy='minority')\n",
    "X_train_resampled, y_train_resampled = smote.fit_sample(X_train_encoded, y_train)\n",
    "pd.Series(y_train_resampled).value_counts()"
   ]
  },
  {
   "cell_type": "code",
   "execution_count": 121,
   "metadata": {
    "scrolled": true
   },
   "outputs": [
    {
     "data": {
      "text/plain": [
       "RandomForestClassifier()"
      ]
     },
     "execution_count": 121,
     "metadata": {},
     "output_type": "execute_result"
    }
   ],
   "source": [
    "# fit to best forest params\n",
    "forest_smote = RandomForestClassifier()\n",
    "forest_smote.fit(X_train_resampled, y_train_resampled)"
   ]
  },
  {
   "cell_type": "code",
   "execution_count": 122,
   "metadata": {},
   "outputs": [
    {
     "name": "stdout",
     "output_type": "stream",
     "text": [
      "Test accuracy: 78.5 %\n",
      "Train accuracy: 99.9 %\n",
      "[[4339  103  392]\n",
      " [ 360  176  111]\n",
      " [ 913   34 2482]]\n"
     ]
    }
   ],
   "source": [
    "# predict with forest above\n",
    "print_accuracy(forest_smote, X_train_resampled, y_train_resampled, X_test_encoded, y_test, cm=True)"
   ]
  },
  {
   "cell_type": "markdown",
   "metadata": {},
   "source": [
    "This is almost the exact same as the unbalanced, baseline forest. Balancing did not improve performance. Model is still overfitting."
   ]
  },
  {
   "cell_type": "code",
   "execution_count": null,
   "metadata": {
    "scrolled": true
   },
   "outputs": [],
   "source": [
    "# fit to best XG params\n",
    "xgbt_smote = xgb.XGBClassifier(verbosity=2, learning_rate=0.2, max_depth=10, n_estimators=100)\n",
    "xgbt_smote.fit(X_train_resampled, y_train_resampled)"
   ]
  },
  {
   "cell_type": "code",
   "execution_count": 91,
   "metadata": {
    "scrolled": true
   },
   "outputs": [
    {
     "name": "stdout",
     "output_type": "stream",
     "text": [
      "Test accuracy: 78.0 %\n",
      "Train accuracy: 86.3 %\n",
      "[[4424   80  330]\n",
      " [ 393  167   87]\n",
      " [1033   38 2358]]\n"
     ]
    }
   ],
   "source": [
    "# predict with XG boost above\n",
    "print_accuracy(xgbt_smote, X_train_resampled, y_train_resampled, X_test_encoded, y_test, cm=True)"
   ]
  },
  {
   "cell_type": "markdown",
   "metadata": {},
   "source": [
    "\n",
    "Traing score improved with SMOTE but the test score remains the same. There is still ~500 misclassified 'fnr'. Now the model is overfit. It seems in this case SMOTE-ing only contributed towards overfitting and did not relieve the imbalance."
   ]
  },
  {
   "cell_type": "markdown",
   "metadata": {},
   "source": [
    "## Final Model Evaluation\n",
    "There comes a time in every models life to hang up the training gloves and enter the arena... \n",
    "\n",
    "The grid search XG Boosted model was selected as best performing. The competition scores the validation set on accuracy of predictions (number of correct predictions out of total predictions). So this model was selcted because it had the highest accuracy score overall and the least overfitting between train/test sets."
   ]
  },
  {
   "cell_type": "code",
   "execution_count": 16,
   "metadata": {
    "scrolled": true
   },
   "outputs": [
    {
     "data": {
      "text/html": [
       "<div>\n",
       "<style scoped>\n",
       "    .dataframe tbody tr th:only-of-type {\n",
       "        vertical-align: middle;\n",
       "    }\n",
       "\n",
       "    .dataframe tbody tr th {\n",
       "        vertical-align: top;\n",
       "    }\n",
       "\n",
       "    .dataframe thead th {\n",
       "        text-align: right;\n",
       "    }\n",
       "</style>\n",
       "<table border=\"1\" class=\"dataframe\">\n",
       "  <thead>\n",
       "    <tr style=\"text-align: right;\">\n",
       "      <th></th>\n",
       "      <th>gps_height</th>\n",
       "      <th>longitude</th>\n",
       "      <th>latitude</th>\n",
       "      <th>basin</th>\n",
       "      <th>region</th>\n",
       "      <th>region_code</th>\n",
       "      <th>district_code</th>\n",
       "      <th>lga</th>\n",
       "      <th>population</th>\n",
       "      <th>public_meeting</th>\n",
       "      <th>...</th>\n",
       "      <th>extraction_type_group</th>\n",
       "      <th>management</th>\n",
       "      <th>payment</th>\n",
       "      <th>water_quality</th>\n",
       "      <th>quantity</th>\n",
       "      <th>source</th>\n",
       "      <th>waterpoint_type</th>\n",
       "      <th>year_rec</th>\n",
       "      <th>month_rec</th>\n",
       "      <th>age</th>\n",
       "    </tr>\n",
       "    <tr>\n",
       "      <th>id</th>\n",
       "      <th></th>\n",
       "      <th></th>\n",
       "      <th></th>\n",
       "      <th></th>\n",
       "      <th></th>\n",
       "      <th></th>\n",
       "      <th></th>\n",
       "      <th></th>\n",
       "      <th></th>\n",
       "      <th></th>\n",
       "      <th></th>\n",
       "      <th></th>\n",
       "      <th></th>\n",
       "      <th></th>\n",
       "      <th></th>\n",
       "      <th></th>\n",
       "      <th></th>\n",
       "      <th></th>\n",
       "      <th></th>\n",
       "      <th></th>\n",
       "      <th></th>\n",
       "    </tr>\n",
       "  </thead>\n",
       "  <tbody>\n",
       "    <tr>\n",
       "      <th>50785</th>\n",
       "      <td>1996</td>\n",
       "      <td>35.290799</td>\n",
       "      <td>-4.059696</td>\n",
       "      <td>Internal</td>\n",
       "      <td>Manyara</td>\n",
       "      <td>21</td>\n",
       "      <td>3</td>\n",
       "      <td>other</td>\n",
       "      <td>321.0</td>\n",
       "      <td>True</td>\n",
       "      <td>...</td>\n",
       "      <td>other</td>\n",
       "      <td>parastatal</td>\n",
       "      <td>never pay</td>\n",
       "      <td>soft</td>\n",
       "      <td>seasonal</td>\n",
       "      <td>rainwater harvesting</td>\n",
       "      <td>other</td>\n",
       "      <td>2013</td>\n",
       "      <td>2</td>\n",
       "      <td>1</td>\n",
       "    </tr>\n",
       "    <tr>\n",
       "      <th>51630</th>\n",
       "      <td>1569</td>\n",
       "      <td>36.656709</td>\n",
       "      <td>-3.309214</td>\n",
       "      <td>Pangani</td>\n",
       "      <td>Arusha</td>\n",
       "      <td>2</td>\n",
       "      <td>2</td>\n",
       "      <td>rural</td>\n",
       "      <td>300.0</td>\n",
       "      <td>True</td>\n",
       "      <td>...</td>\n",
       "      <td>gravity</td>\n",
       "      <td>vwc</td>\n",
       "      <td>never pay</td>\n",
       "      <td>soft</td>\n",
       "      <td>insufficient</td>\n",
       "      <td>spring</td>\n",
       "      <td>communal standpipe</td>\n",
       "      <td>2013</td>\n",
       "      <td>2</td>\n",
       "      <td>13</td>\n",
       "    </tr>\n",
       "    <tr>\n",
       "      <th>17168</th>\n",
       "      <td>1567</td>\n",
       "      <td>34.767863</td>\n",
       "      <td>-5.004344</td>\n",
       "      <td>Internal</td>\n",
       "      <td>Singida</td>\n",
       "      <td>13</td>\n",
       "      <td>2</td>\n",
       "      <td>rural</td>\n",
       "      <td>500.0</td>\n",
       "      <td>True</td>\n",
       "      <td>...</td>\n",
       "      <td>other</td>\n",
       "      <td>vwc</td>\n",
       "      <td>never pay</td>\n",
       "      <td>soft</td>\n",
       "      <td>insufficient</td>\n",
       "      <td>rainwater harvesting</td>\n",
       "      <td>other</td>\n",
       "      <td>2013</td>\n",
       "      <td>2</td>\n",
       "      <td>3</td>\n",
       "    </tr>\n",
       "  </tbody>\n",
       "</table>\n",
       "<p>3 rows × 23 columns</p>\n",
       "</div>"
      ],
      "text/plain": [
       "       gps_height  longitude  latitude     basin   region  region_code  \\\n",
       "id                                                                       \n",
       "50785        1996  35.290799 -4.059696  Internal  Manyara           21   \n",
       "51630        1569  36.656709 -3.309214   Pangani   Arusha            2   \n",
       "17168        1567  34.767863 -5.004344  Internal  Singida           13   \n",
       "\n",
       "       district_code    lga  population  public_meeting  ...  \\\n",
       "id                                                       ...   \n",
       "50785              3  other       321.0            True  ...   \n",
       "51630              2  rural       300.0            True  ...   \n",
       "17168              2  rural       500.0            True  ...   \n",
       "\n",
       "      extraction_type_group  management    payment water_quality  \\\n",
       "id                                                                 \n",
       "50785                 other  parastatal  never pay          soft   \n",
       "51630               gravity         vwc  never pay          soft   \n",
       "17168                 other         vwc  never pay          soft   \n",
       "\n",
       "           quantity                source     waterpoint_type year_rec  \\\n",
       "id                                                                       \n",
       "50785      seasonal  rainwater harvesting               other     2013   \n",
       "51630  insufficient                spring  communal standpipe     2013   \n",
       "17168  insufficient  rainwater harvesting               other     2013   \n",
       "\n",
       "      month_rec age  \n",
       "id                   \n",
       "50785         2   1  \n",
       "51630         2  13  \n",
       "17168         2   3  \n",
       "\n",
       "[3 rows x 23 columns]"
      ]
     },
     "metadata": {},
     "output_type": "display_data"
    },
    {
     "name": "stdout",
     "output_type": "stream",
     "text": [
      "<class 'pandas.core.frame.DataFrame'>\n",
      "Int64Index: 14850 entries, 50785 to 68707\n",
      "Data columns (total 23 columns):\n",
      "gps_height               14850 non-null int64\n",
      "longitude                14850 non-null float64\n",
      "latitude                 14850 non-null float64\n",
      "basin                    14850 non-null object\n",
      "region                   14850 non-null object\n",
      "region_code              14850 non-null int64\n",
      "district_code            14850 non-null int64\n",
      "lga                      14850 non-null object\n",
      "population               14850 non-null float64\n",
      "public_meeting           14850 non-null bool\n",
      "scheme_management        14850 non-null object\n",
      "permit                   14850 non-null bool\n",
      "construction_year        14850 non-null int64\n",
      "extraction_type_group    14850 non-null object\n",
      "management               14850 non-null object\n",
      "payment                  14850 non-null object\n",
      "water_quality            14850 non-null object\n",
      "quantity                 14850 non-null object\n",
      "source                   14850 non-null object\n",
      "waterpoint_type          14850 non-null object\n",
      "year_rec                 14850 non-null int64\n",
      "month_rec                14850 non-null int64\n",
      "age                      14850 non-null int64\n",
      "dtypes: bool(2), float64(3), int64(7), object(11)\n",
      "memory usage: 2.5+ MB\n"
     ]
    }
   ],
   "source": [
    "# import transformed X_validate\n",
    "X_validate = pd.read_csv(\"../data/X_validate_transformed.csv\", index_col='id')\n",
    "display(X_validate.head(3))\n",
    "X_validate.info()"
   ]
  },
  {
   "cell_type": "code",
   "execution_count": 17,
   "metadata": {},
   "outputs": [],
   "source": [
    "# preprocess ENTIRE training set as above\n",
    "# preprocess X_validate on the fit to X_train (exact same features)\n",
    "ohe_val = OneHotEncoder(handle_unknown = 'ignore')\n",
    "ohe_val.fit(X)\n",
    "X_training_encoded = ohe_val.transform(X)\n",
    "X_validate_encoded = ohe_val.transform(X_validate)"
   ]
  },
  {
   "cell_type": "code",
   "execution_count": 77,
   "metadata": {},
   "outputs": [
    {
     "data": {
      "text/plain": [
       "XGBClassifier(learning_rate=0.2, max_depth=6, min_child_weight=2,\n",
       "              objective='multi:softprob', subsample=0.7)"
      ]
     },
     "execution_count": 77,
     "metadata": {},
     "output_type": "execute_result"
    }
   ],
   "source": [
    "# fit entire training_set_preprocessed to best model\n",
    "best_model = xgb.XGBClassifier(verbosity=1,learning_rate=0.2, max_depth=6, min_child_weight=2,n_estimators=100, subsample=0.7)\n",
    "best_model.fit(X_training_encoded, y)"
   ]
  },
  {
   "cell_type": "markdown",
   "metadata": {},
   "source": [
    "#### Model Accuracy:\n",
    "\n",
    "Predicted model classification accuracy."
   ]
  },
  {
   "cell_type": "code",
   "execution_count": 78,
   "metadata": {},
   "outputs": [
    {
     "data": {
      "text/plain": [
       "\"Cross-Val Score (k=5):'0.7762794612794612\""
      ]
     },
     "execution_count": 78,
     "metadata": {},
     "output_type": "execute_result"
    }
   ],
   "source": [
    "# K-Folds cross validate training data, get mean score\n",
    "get_mean_cross_val(best_model, X_training_encoded, y, cv=5)"
   ]
  },
  {
   "cell_type": "markdown",
   "metadata": {},
   "source": [
    "#### Feature Importances:"
   ]
  },
  {
   "cell_type": "code",
   "execution_count": 118,
   "metadata": {},
   "outputs": [
    {
     "data": {
      "image/png": "[encoded data removed]",
      "text/plain": [
       "<Figure size 720x720 with 1 Axes>"
      ]
     },
     "metadata": {
      "needs_background": "light"
     },
     "output_type": "display_data"
    }
   ],
   "source": [
    "plot_feature_importance(best_model, ohe_val, X, num_features=30)"
   ]
  },
  {
   "cell_type": "markdown",
   "metadata": {},
   "source": [
    "The most predictive feature was water point quantity value 'dry', which is rather obvious. The next most predictive is the value 'other' in both 'waterpoint_type' and 'extraction_type'. This could be due to incomplete data, or there are several variaties of well lumped into other that are of low quality. 'Region' shows up in many forms, indicating that either location or local managment ('Water Board' is region wide) for these areas contributes to well functionality.\n",
    "\n",
    "\n",
    "#### Confusion Matrices, prediction stats:"
   ]
  },
  {
   "cell_type": "code",
   "execution_count": 74,
   "metadata": {},
   "outputs": [
    {
     "name": "stdout",
     "output_type": "stream",
     "text": [
      "Normalized Matrix:\n"
     ]
    },
    {
     "data": {
      "image/png": "[encoded data removed]",
      "text/plain": [
       "<Figure size 432x288 with 2 Axes>"
      ]
     },
     "metadata": {
      "needs_background": "light"
     },
     "output_type": "display_data"
    },
    {
     "data": {
      "text/plain": [
       "None"
      ]
     },
     "metadata": {},
     "output_type": "display_data"
    },
    {
     "name": "stdout",
     "output_type": "stream",
     "text": [
      "Quantity Matrix:\n"
     ]
    },
    {
     "data": {
      "image/png": "[encoded data removed]",
      "text/plain": [
       "<Figure size 432x288 with 2 Axes>"
      ]
     },
     "metadata": {
      "needs_background": "light"
     },
     "output_type": "display_data"
    }
   ],
   "source": [
    "print('Normalized Matrix:')\n",
    "display(plot_confusion(best_model, X_training_encoded, y, normalize='true'))\n",
    "print('Quantity Matrix:')\n",
    "plot_confusion(best_model, X_training_encoded, y, form='.0f')"
   ]
  },
  {
   "cell_type": "markdown",
   "metadata": {},
   "source": [
    "The model is having difficultly discerning 'functional' from 'functional needs repair', 64% of 'fnr' are incorrectly classifed as 'functional'. I tried correcting the class imbalance but that didn't seem to improve performance.\n",
    "\n",
    "## VALIDATION"
   ]
  },
  {
   "cell_type": "code",
   "execution_count": 79,
   "metadata": {},
   "outputs": [
    {
     "data": {
      "text/html": [
       "<div>\n",
       "<style scoped>\n",
       "    .dataframe tbody tr th:only-of-type {\n",
       "        vertical-align: middle;\n",
       "    }\n",
       "\n",
       "    .dataframe tbody tr th {\n",
       "        vertical-align: top;\n",
       "    }\n",
       "\n",
       "    .dataframe thead th {\n",
       "        text-align: right;\n",
       "    }\n",
       "</style>\n",
       "<table border=\"1\" class=\"dataframe\">\n",
       "  <thead>\n",
       "    <tr style=\"text-align: right;\">\n",
       "      <th></th>\n",
       "      <th>status_group</th>\n",
       "    </tr>\n",
       "    <tr>\n",
       "      <th>id</th>\n",
       "      <th></th>\n",
       "    </tr>\n",
       "  </thead>\n",
       "  <tbody>\n",
       "    <tr>\n",
       "      <th>50785</th>\n",
       "      <td>functional</td>\n",
       "    </tr>\n",
       "    <tr>\n",
       "      <th>51630</th>\n",
       "      <td>functional</td>\n",
       "    </tr>\n",
       "    <tr>\n",
       "      <th>17168</th>\n",
       "      <td>functional</td>\n",
       "    </tr>\n",
       "    <tr>\n",
       "      <th>45559</th>\n",
       "      <td>non functional</td>\n",
       "    </tr>\n",
       "    <tr>\n",
       "      <th>49871</th>\n",
       "      <td>functional</td>\n",
       "    </tr>\n",
       "  </tbody>\n",
       "</table>\n",
       "</div>"
      ],
      "text/plain": [
       "         status_group\n",
       "id                   \n",
       "50785      functional\n",
       "51630      functional\n",
       "17168      functional\n",
       "45559  non functional\n",
       "49871      functional"
      ]
     },
     "metadata": {},
     "output_type": "display_data"
    },
    {
     "data": {
      "text/plain": [
       "functional                 0.661616\n",
       "non functional             0.317980\n",
       "functional needs repair    0.020404\n",
       "Name: status_group, dtype: float64"
      ]
     },
     "execution_count": 79,
     "metadata": {},
     "output_type": "execute_result"
    }
   ],
   "source": [
    "# predict with X_val_preprocessed\n",
    "y_pred_val = best_model.predict(X_validate_encoded)\n",
    "\n",
    "# reformat to submission format csv, maintain 'id' columns\n",
    "df_y_pred_val = pd.DataFrame(y_pred_val, index=X_validate.index, columns=['status_group'])\n",
    "\n",
    "#check format and prediction rate\n",
    "display(df_y_pred_val.head())\n",
    "df_y_pred_val['status_group'].value_counts(normalize=True)"
   ]
  },
  {
   "cell_type": "code",
   "execution_count": 80,
   "metadata": {},
   "outputs": [],
   "source": [
    "# export to CSV, submit to score final model\n",
    "df_y_pred_val.to_csv(\"../predictions/df_y_validation2.csv\")"
   ]
  },
  {
   "cell_type": "markdown",
   "metadata": {},
   "source": [
    "### Conclusion\n",
    "\n",
    "The model scored 77.97% prediction accuracy on the validation set upon submission. The modeling test set scored 77.63%. Only 0.34% difference, indicating the model is fit well and not over trained. The model is having difficultly discerning 'functional' from 'functional needs repair', I tried correcting the class imbalance but that didn't seem to improve performance of the model overall, since there was significant overfitting.\n",
    "\n",
    "<div>\n",
    "<img src=\"../images/score.png\" width=\"400\"/>\n",
    "</div>"
   ]
  },
  {
   "cell_type": "markdown",
   "metadata": {},
   "source": [
    "### Future Work\n",
    "A different strategy: Since correcting the imbalance for the rare class did not improve the model, perehaps explore model stacking. First binary between 'functional' and 'non' and then between between 'functional' and 'needs repair'. \n",
    "\n",
    "With more time: Further tuning of the models could be done to strengthen classification ability. Reworking or eliminating certain features from the data to provide a more distinct boundary for the model to learn from."
   ]
  },
  {
   "cell_type": "code",
   "execution_count": 84,
   "metadata": {},
   "outputs": [],
   "source": [
    "# #pickl models to avoid long runtimes if re-using\n",
    "# f = open(\"../predictions/models.pkl\", \"wb\")\n",
    "# pickle.dump(best_xgbt, f)\n",
    "# pickle.dump(xgbt, f)\n",
    "# pickle.dump(base_gbt, f)\n",
    "# pickle.dump(best_model, f)\n",
    "# f.close()"
   ]
  },
  {
   "cell_type": "code",
   "execution_count": 6,
   "metadata": {},
   "outputs": [],
   "source": [
    "# ## Copy/paste this to import the pickled dicts\n",
    "# f = open(\"../predictions/models.pkl\", 'rb')\n",
    "# best_xgbt = pickle.load(f)\n",
    "# xgbt = pickle.load(f)\n",
    "# base_gbt = pickle.load(f)\n",
    "# best_model= pickle.load(f)\n",
    "# f.close()"
   ]
  },
  {
   "cell_type": "code",
   "execution_count": null,
   "metadata": {},
   "outputs": [],
   "source": []
  }
 ],
 "metadata": {
  "kernelspec": {
   "display_name": "Python 3",
   "language": "python",
   "name": "python3"
  },
  "language_info": {
   "codemirror_mode": {
    "name": "ipython",
    "version": 3
   },
   "file_extension": ".py",
   "mimetype": "text/x-python",
   "name": "python",
   "nbconvert_exporter": "python",
   "pygments_lexer": "ipython3",
   "version": "3.6.9"
  }
 },
 "nbformat": 4,
 "nbformat_minor": 4
}
